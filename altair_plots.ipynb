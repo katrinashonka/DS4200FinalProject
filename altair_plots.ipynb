{
 "cells": [
  {
   "cell_type": "markdown",
   "id": "d53aea01",
   "metadata": {},
   "source": [
    "# Interactive Altair Plots"
   ]
  },
  {
   "cell_type": "code",
   "execution_count": null,
   "id": "a4150350",
   "metadata": {},
   "outputs": [],
   "source": [
    "# data cleaning\n",
    "import pandas as pd\n",
    "import altair as alt\n",
    "\n",
    "df = pd.read_csv('panic_attack_dataset.csv')\n",
    "pd.set_option('display.max_rows', None)\n",
    "\n",
    "missing_vals = df.isnull().sum()\n",
    "missing_vals # quicker than manually checking df for them\n",
    "\n",
    "# convert categorical data to numerical (Yes/No -> 1/0)\n",
    "yes_no = [\"Sweating\", \"Shortness_of_Breath\", \"Dizziness\", \"Trembling\", \"Smoking\", \"Therapy\", \"Medication\", \"Chest_Pain\"]\n",
    "df[yes_no] = df[yes_no].map(lambda x: 1 if x ==\"Yes\" else 0) # assigns 1s to yes val and 0 to no\n",
    "\n",
    "# removing non-binary individuals, making male=1, female=0\n",
    "df = df[df[\"Gender\"] != \"Non-binary\"].copy()\n",
    "df.loc[:, \"Gender\"] = df[\"Gender\"].map({\"Female\": 0, \"Male\": 1})\n",
    "\n",
    "numerical = [\"Heart_Rate\", \"Caffeine_Intake\", \"Exercise_Frequency\", \"Sleep_Hours\", \"Alcohol_Consumption\"]\n",
    "\n",
    "# function for classifying panic severity\n",
    "def panic_severity(score):\n",
    "    if score <=3:\n",
    "        return \"Low\"\n",
    "    elif 4 <= score <= 6:\n",
    "        return \"Medium\"\n",
    "    else:\n",
    "        return \"High\"\n",
    "\n",
    "# applying function to df\n",
    "df.loc[:, \"Panic_Severity\"] = df[\"Panic_Score\"].apply(panic_severity)\n",
    "\n",
    "\n",
    "df = df.drop(columns=[\"ID\"])"
   ]
  },
  {
   "cell_type": "code",
   "execution_count": null,
   "id": "e80e06ec",
   "metadata": {
    "scrolled": false
   },
   "outputs": [],
   "source": [
    "df.head()"
   ]
  },
  {
   "cell_type": "markdown",
   "id": "e75a876d",
   "metadata": {},
   "source": [
    "# Stress Induced Panic Attacks"
   ]
  },
  {
   "cell_type": "markdown",
   "id": "cf3e8030",
   "metadata": {},
   "source": [
    "More preproccessing, creation of new features "
   ]
  },
  {
   "cell_type": "code",
   "execution_count": null,
   "id": "58b3a807",
   "metadata": {},
   "outputs": [],
   "source": [
    "# filter to stress-triggered panic attacks\n",
    "df = df[df[\"Trigger\"] == \"Stress\"].copy()\n",
    "\n",
    "# symptom cols\n",
    "symptom_cols = [\"Sweating\", \"Shortness_of_Breath\", \"Dizziness\", \"Chest_Pain\", \"Trembling\"]\n",
    "\n",
    "\n",
    "# convert 1/0 to Yes/No just for this plot \n",
    "for col in symptom_cols:\n",
    "    if df[col].dtype != 'object':\n",
    "        df[col] = df[col].map({1: \"Yes\", 0: \"No\"})\n",
    "\n",
    "        # melt symptom columns to long format\n",
    "symptom_df = df.melt(\n",
    "    id_vars=[\"Panic_Severity\"],\n",
    "    value_vars=symptom_cols,\n",
    "    var_name=\"Category\",\n",
    "    value_name=\"Value\")\n",
    "\n",
    "\n",
    "# keep only 'Yes' symptoms\n",
    "symptom_df = symptom_df[symptom_df[\"Value\"] == \"Yes\"]\n",
    "symptom_df[\"Type\"] = \"Symptom\"\n",
    "symptom_df[\"Label\"] = symptom_df[\"Category\"]  # just show symptom name\n",
    "\n",
    "\n",
    "# lifestyle processing \n",
    "# bin lifestyle columns\n",
    "df[\"Caffeine\"] = pd.cut(df[\"Caffeine_Intake\"],bins=[0, 2, 4, 7, 10], labels=[\"None\", \"Light\", \"High\", \"Very High\"])\n",
    "df[\"Alcohol\"] = pd.cut(df[\"Alcohol_Consumption\"], bins=[0, 2, 4, 7, 10], labels=[\"None\", \"Light\", \"High\", \"Very_High\"])\n",
    "df[\"Sleep\"] = pd.cut(df[\"Sleep_Hours\"], bins=[0, 6, 8, 24], labels=[\"Low\", \"Normal\", \"High\"])\n",
    "\n",
    "\n",
    "# melt lifestyle columns to long format\n",
    "lifestyle_df = df.melt(\n",
    "    id_vars=[\"Panic_Severity\"],\n",
    "    value_vars=[\"Caffeine\", \"Alcohol\", \"Sleep\"],\n",
    "    var_name=\"Category\",\n",
    "    value_name=\"Value\")\n",
    "\n",
    "lifestyle_df[\"Type\"] = \"Lifestyle\"\n",
    "lifestyle_df[\"Label\"] = lifestyle_df[\"Category\"] + \": \" + lifestyle_df[\"Value\"].astype(str)\n",
    "\n",
    "\n",
    "# combine \n",
    "combined_df = pd.concat([symptom_df, lifestyle_df], ignore_index=True)\n",
    "\n",
    "# radio toggling for symptom vs lifestyle\n",
    "type_radio = alt.binding_radio(options=[\"Symptom\", \"Lifestyle\"], name=\"View:\")\n",
    "type_selector = alt.param(bind=type_radio, name=\"TypeSelector\", value=\"Symptom\")\n",
    "\n",
    "\n",
    "# dropdown for Panic_Severity\n",
    "severity_dropdown = alt.binding_select(options=[\"Low\", \"Medium\", \"High\"], name=\"Panic Severity:\")\n",
    "severity_selector = alt.param(bind=severity_dropdown, name=\"SeveritySelector\", value=\"High\")"
   ]
  },
  {
   "cell_type": "code",
   "execution_count": null,
   "id": "e556fc6c",
   "metadata": {},
   "outputs": [],
   "source": [
    "# interactive chart with all tools\n",
    "chart_count = alt.Chart(combined_df).mark_bar().encode(\n",
    "    y=alt.Y(\"Label:N\", title=\"Category / Value\", sort='-x'),\n",
    "    x=alt.X(\"count():Q\", title=\"Count\"),\n",
    "    color=alt.Color(\"Panic_Severity:N\", scale=alt.Scale(\n",
    "        domain=[\"Low\", \"Medium\", \"High\"],\n",
    "        range=[\"green\", \"orange\", \"red\"]\n",
    "    )),\n",
    "    tooltip=[\"Category\", \"Value\", \"count()\"]\n",
    ").add_params(\n",
    "    type_selector,\n",
    "    severity_selector\n",
    ").transform_filter(\n",
    "    (alt.datum.Type == type_selector) &\n",
    "    (alt.datum.Panic_Severity == severity_selector)\n",
    ").properties(\n",
    "    title=\"Stress-Induced Panic Attacks: Compare Symptoms and Lifestyle\",\n",
    "    width=600,\n",
    "    height=400\n",
    ")\n",
    "\n",
    "chart_count"
   ]
  },
  {
   "cell_type": "markdown",
   "id": "2ae5b1b6",
   "metadata": {},
   "source": [
    "# Potential Improvement: Stacked bar chart "
   ]
  },
  {
   "cell_type": "code",
   "execution_count": null,
   "id": "a9ead467",
   "metadata": {
    "scrolled": false
   },
   "outputs": [],
   "source": [
    "chart_proportion = alt.Chart(combined_df).mark_bar().encode(\n",
    "    y=alt.Y(\"Label:N\", title=\"Feature (Symptom or Lifestyle)\", sort='-x'),\n",
    "    x=alt.X(\"count():Q\", stack=\"normalize\", title=\"Proportion\"),\n",
    "    color=alt.Color(\"Panic_Severity:N\", scale=alt.Scale(\n",
    "        domain=[\"Low\", \"Medium\", \"High\"],\n",
    "        range=[\"green\", \"orange\", \"red\"]\n",
    "    )),\n",
    "    tooltip=[\"Category\", \"Value\", \"Panic_Severity\", \"count()\"]\n",
    ").add_params(\n",
    "    type_selector\n",
    ").transform_filter(\n",
    "    alt.datum.Type == type_selector\n",
    ").properties(\n",
    "    title=\"Stress-Induced Panic Attacks: Normalized View of Symptoms and Lifestyle by Severity\",\n",
    "    width=600,\n",
    "    height=400\n",
    ")\n",
    "chart_proportion"
   ]
  },
  {
   "cell_type": "markdown",
   "id": "e77c41ea",
   "metadata": {},
   "source": [
    "# How sleep affects panic score"
   ]
  },
  {
   "cell_type": "code",
   "execution_count": null,
   "id": "383932e9",
   "metadata": {},
   "outputs": [],
   "source": [
    "slider = alt.binding_range(min=4, max=10, step=0.5, name='Min Sleep Hours:')\n",
    "sleep_param = alt.param(bind=slider, value=5)\n",
    "\n",
    "chart = alt.Chart(df).mark_circle(size=60, opacity=0.6).encode(\n",
    "    x=alt.X(\"Sleep_Hours:Q\", title=\"Sleep Hours\", scale=alt.Scale(domain=[4, 9.5])),\n",
    "    y=\"Panic_Score:Q\",\n",
    "    color=\"Panic_Severity:N\",\n",
    "    tooltip=[\"Sleep_Hours\", \"Panic_Score\", \"Panic_Severity\"]\n",
    ").add_params(sleep_param).transform_filter(\n",
    "    alt.datum.Sleep_Hours >= sleep_param\n",
    ").properties(\n",
    "    title=\"How Does Sleep Affect Panic Score?\"\n",
    ")\n",
    "\n",
    "chart"
   ]
  },
  {
   "cell_type": "code",
   "execution_count": null,
   "id": "34ac0180",
   "metadata": {
    "scrolled": false
   },
   "outputs": [],
   "source": [
    "line_df = df.groupby(\"Sleep_Hours\", as_index=False)[\"Panic_Score\"].mean()\n",
    "\n",
    "line_chart = alt.Chart(line_df).mark_line(point=True).encode(\n",
    "    x=alt.X(\"Sleep_Hours:Q\", title=\"Sleep Hours\", scale=alt.Scale(domain=[4, 9])),\n",
    "    y=alt.Y(\"Panic_Score:Q\", title=\"Average Panic Score\"),\n",
    "    tooltip=[\"Sleep_Hours\", \"Panic_Score\"]\n",
    ").properties(\n",
    "    title=\"Average Panic Score by Sleep Hours\"\n",
    ")\n",
    "line_chart"
   ]
  },
  {
   "cell_type": "markdown",
   "id": "31cb6eca",
   "metadata": {},
   "source": [
    "# Probably useless plot but kind of cool"
   ]
  },
  {
   "cell_type": "code",
   "execution_count": null,
   "id": "ef554892",
   "metadata": {
    "scrolled": false
   },
   "outputs": [],
   "source": [
    "import seaborn as sns\n",
    "import matplotlib.pyplot as plt\n",
    "\n",
    "# aesthetics\n",
    "sns.set(style=\"whitegrid\")\n",
    "\n",
    "# ridge plot using seaborn\n",
    "plt.figure(figsize=(10, 6))\n",
    "g = sns.violinplot(\n",
    "    x=\"Sleep_Hours\",\n",
    "    y=\"Panic_Severity\",\n",
    "    data=df,\n",
    "    scale=\"width\",\n",
    "    inner=\"quartile\",\n",
    "    palette={\"Low\": \"green\", \"Medium\": \"orange\", \"High\": \"red\"},\n",
    "    order=[\"Low\", \"Medium\", \"High\"],\n",
    "    cut=0)\n",
    "\n",
    "plt.title(\"Distribution of Sleep Hours by Panic Severity\", fontsize=14, weight='bold')\n",
    "plt.xlabel(\"Sleep Duration (Hours)\")\n",
    "plt.ylabel(\"Panic Severity\")\n",
    "\n",
    "plt.tight_layout()\n",
    "plt.show()"
   ]
  }
 ],
 "metadata": {
  "kernelspec": {
   "display_name": "Python 3 (ipykernel)",
   "language": "python",
   "name": "python3"
  },
  "language_info": {
   "codemirror_mode": {
    "name": "ipython",
    "version": 3
   },
   "file_extension": ".py",
   "mimetype": "text/x-python",
   "name": "python",
   "nbconvert_exporter": "python",
   "pygments_lexer": "ipython3",
   "version": "3.11.5"
  }
 },
 "nbformat": 4,
 "nbformat_minor": 5
}
